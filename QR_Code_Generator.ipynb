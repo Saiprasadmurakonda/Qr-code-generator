{
  "nbformat": 4,
  "nbformat_minor": 0,
  "metadata": {
    "colab": {
      "provenance": []
    },
    "kernelspec": {
      "name": "python3",
      "display_name": "Python 3"
    },
    "language_info": {
      "name": "python"
    }
  },
  "cells": [
    {
      "cell_type": "code",
      "execution_count": null,
      "metadata": {
        "colab": {
          "base_uri": "https://localhost:8080/"
        },
        "id": "RnQW0g9um-xM",
        "outputId": "d9b889dc-8857-4391-f566-51c18e90951d"
      },
      "outputs": [
        {
          "output_type": "stream",
          "name": "stdout",
          "text": [
            "Collecting qrcode[pil]\n",
            "  Downloading qrcode-8.0-py3-none-any.whl.metadata (17 kB)\n",
            "Requirement already satisfied: pillow>=9.1.0 in /usr/local/lib/python3.10/dist-packages (from qrcode[pil]) (11.0.0)\n",
            "Downloading qrcode-8.0-py3-none-any.whl (45 kB)\n",
            "\u001b[2K   \u001b[90m━━━━━━━━━━━━━━━━━━━━━━━━━━━━━━━━━━━━━━━━\u001b[0m \u001b[32m45.7/45.7 kB\u001b[0m \u001b[31m1.7 MB/s\u001b[0m eta \u001b[36m0:00:00\u001b[0m\n",
            "\u001b[?25hInstalling collected packages: qrcode\n",
            "Successfully installed qrcode-8.0\n"
          ]
        }
      ],
      "source": [
        "pip install qrcode[pil]"
      ]
    },
    {
      "cell_type": "code",
      "source": [
        "import qrcode\n",
        "\n",
        "\n",
        "\n",
        "# Data for the QR code\n",
        "data =input(\"Enter the data you want to convert ot qr\")\n",
        "\n",
        "# Create a QR code object\n",
        "qr = qrcode.QRCode(\n",
        "    version=1,  # Size of the QR Code (1 = 21x21, 2 = 25x25, etc.)\n",
        "    error_correction=qrcode.constants.ERROR_CORRECT_L,  # Error correction level\n",
        "    box_size=10,  # Size of each box in the QR code grid\n",
        "    border=4,  # Thickness of the border (minimum is 4)\n",
        ")\n",
        "\n",
        "# Add data to the QR code\n",
        "qr.add_data(data)\n",
        "qr.make(fit=True)\n",
        "\n",
        "# Create an image of the QR code\n",
        "img = qr.make_image(fill_color=\"black\", back_color=\"white\")\n",
        "qr_code_console = qr.make_image(fill_color=\"black\", back_color=\"white\").get_image()\n",
        "for row in qr.modules:\n",
        "    print(\"\".join(\"██\" if cell else \"  \" for cell in row))\n",
        "\n",
        "print(\"QR code displayed above in the console.\")\n",
        "\n",
        "# Save the image\n",
        "img.save(\"qrcode.png\")\n",
        "\n",
        "print(\"QR code generated and saved as 'qrcode.png'\")"
      ],
      "metadata": {
        "colab": {
          "base_uri": "https://localhost:8080/"
        },
        "id": "R9XHwrE9n3Nr",
        "outputId": "3706236e-d0a8-442d-b2a0-a0f04ad90cd1"
      },
      "execution_count": null,
      "outputs": [
        {
          "output_type": "stream",
          "name": "stdout",
          "text": [
            "Enter the data you want to convert ot qrupi://pay?pa=yatish.manne09@okicici&pn=Yatish%20Manne&aid=uGICAgMDwncfRYg\n",
            "██████████████  ██████  ██████  ██                  ██████████████\n",
            "██          ██  ██████          ████████            ██          ██\n",
            "██  ██████  ██  ██  ████    ████  ████    ██████    ██  ██████  ██\n",
            "██  ██████  ██  ████  ██    ████    ████        ██  ██  ██████  ██\n",
            "██  ██████  ██              ██████████    ██  ████  ██  ██████  ██\n",
            "██          ██  ██    ████████  ██  ██████████  ██  ██          ██\n",
            "██████████████  ██  ██  ██  ██  ██  ██  ██  ██  ██  ██████████████\n",
            "                  ██    ██  ████  ██    ████  ██                  \n",
            "████    ██████        ██████  ██████████  ████        ██  ████████\n",
            "██  ██████        ████  ████████    ██    ██  ████    ██  ██  ██  \n",
            "██          ██  ██    ██████  ████████  ██  ████████    ██  ██    \n",
            "██  ██  ██          ██  ██  ████  ████    ██  ████    ██████    ██\n",
            "██████  ██  ████    ██  ████      ████████████  ██  ██  ██    ██  \n",
            "████          ██████  ██  ████████        ██  ██  ██  ██  ██      \n",
            "  ██████  ████  ██    ████    ██        ████████    ██  ██  ██    \n",
            "██    ██        ████████    ████████      ██    ████  ██      ██  \n",
            "████  ██    ████    ████      ██  ████    ████████  ████████  ██  \n",
            "  ████████        ██      ████████    ██      ██      ██    ████  \n",
            "████    ██  ████    ████  ██████  ██    ██  ████        ████  ██  \n",
            "  ██████          ██        ████████    ████    ██████            \n",
            "████  ██    ████  ████    ██              ████████  ██████    ████\n",
            "██████████    ██  ████      ██████████  ████  ██  ██        ██    \n",
            "    ██  ██  ██    ██████    ██████████    ████████  ██  ██    ██  \n",
            "      ██████    ████    ██  ██    ██████████  ██      ████    ██  \n",
            "████  ████  ██████  ██  ████      ██    ██████  ████████████    ██\n",
            "                ██    ██  ██████    ██          ██      ██        \n",
            "██████████████      ██████  ████  ██        ██  ██  ██  ██    ██  \n",
            "██          ██  ████          ██  ████    ██    ██      ████  ██  \n",
            "██  ██████  ██  ██      ██        ██  ██  ████  ████████████  ██  \n",
            "██  ██████  ██      ████  ██  ████████    ██  ████████  ████  ████\n",
            "██  ██████  ██    ██████  ████████  ██    ████  ██  ██  ██  ████  \n",
            "██          ██  ██████  ██  ██    ██  ██████  ████████████        \n",
            "██████████████  ██  ██████    ██  ██  ██████  ██████      ██    ██\n",
            "QR code displayed above in the console.\n",
            "QR code generated and saved as 'qrcode.png'\n"
          ]
        }
      ]
    }
  ]
}